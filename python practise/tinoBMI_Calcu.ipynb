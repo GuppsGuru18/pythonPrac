{
 "cells": [
  {
   "cell_type": "markdown",
   "id": "feddca45-4b2b-4b62-b16c-1683bfb61233",
   "metadata": {},
   "source": [
    "# BMI Calculator"
   ]
  },
  {
   "cell_type": "code",
   "execution_count": 5,
   "id": "5b32955c-3a38-4621-ab3d-1e1ac5df3687",
   "metadata": {},
   "outputs": [
    {
     "name": "stdin",
     "output_type": "stream",
     "text": [
      "Enter your name:  TINOLI\n",
      "Enter your weight in pounds:  170\n",
      "Enter your height in inches:  89\n"
     ]
    },
    {
     "name": "stdout",
     "output_type": "stream",
     "text": [
      "15.087741446787021\n",
      "TINOLI, you are uderweight.\n"
     ]
    }
   ],
   "source": [
    "# convert the weight and height to integers as they are strings\n",
    "name = input('Enter your name: ')\n",
    "\n",
    "weight = int(input('Enter your weight in pounds: '))\n",
    "\n",
    "height = int(input('Enter your height in inches: '))\n",
    "\n",
    "BMI = (weight*703)/(height*height)\n",
    "\n",
    "print(BMI)\n",
    "\n",
    "if BMI>0:\n",
    "    if(BMI<18.5):\n",
    "        print(name +', you are uderweight.')\n",
    "    elif(BMI<=24.9):\n",
    "        print(name +', you are normal weight')\n",
    "    elif(BMI<=29.9):\n",
    "        print(name +', you are overweight')\n",
    "    elif(BMI<=34.9):\n",
    "        print(name +', you are obese')\n",
    "    elif(BMI<=39.9):\n",
    "        print(name +', you are severely obese')\n",
    "    else:\n",
    "        print(name +', you are morbidly obese')\n",
    "else:\n",
    "    print('Enter valid input')"
   ]
  },
  {
   "cell_type": "code",
   "execution_count": 4,
   "id": "7de2d178-ab32-42b2-808c-e2fa0be8b08a",
   "metadata": {},
   "outputs": [
    {
     "name": "stdout",
     "output_type": "stream",
     "text": [
      "TINO, you are overweight\n"
     ]
    }
   ],
   "source": [
    "if BMI>0:\n",
    "    if(BMI<18.5):\n",
    "        print(name +', you are uderweight.')\n",
    "    elif(BMI<=24.9):\n",
    "        print(name +', you are normal weight')\n",
    "    elif(BMI<=29.9):\n",
    "        print(name +', you are overweight')\n",
    "    elif(BMI<=34.9):\n",
    "        print(name +', you are obese')\n",
    "    elif(BMI<=39.9):\n",
    "        print(name +', you are severely obese')\n",
    "    else:\n",
    "        print(name +', you are morbidly obese')\n",
    "else:\n",
    "    print('Enter valid input')"
   ]
  },
  {
   "cell_type": "code",
   "execution_count": null,
   "id": "90a3f03c-ec77-4df7-9cdd-89ddc8ee4da7",
   "metadata": {},
   "outputs": [],
   "source": []
  },
  {
   "cell_type": "code",
   "execution_count": null,
   "id": "a93d970b-0581-4a65-b0b8-64116734a97a",
   "metadata": {},
   "outputs": [],
   "source": [
    "Under 18.5 Underweight  Minimal\n",
    "18.5 - 24.9 Normal Weight  Minimal\n",
    "25 - 29.9 Overweight  Increased\n",
    "30 - 34.9 Obese  High\n",
    "35 - 39.9 Severely Obese  Very High\n",
    "40 and over Morbidly Obese  Extremely High"
   ]
  },
  {
   "cell_type": "code",
   "execution_count": null,
   "id": "f746208d-418d-4087-bde0-bbc9c264a1b8",
   "metadata": {},
   "outputs": [],
   "source": []
  },
  {
   "cell_type": "code",
   "execution_count": null,
   "id": "b475a14a-e537-4217-a196-5d4dcc536856",
   "metadata": {},
   "outputs": [],
   "source": []
  },
  {
   "cell_type": "code",
   "execution_count": null,
   "id": "e0df0e43-5d4b-40e0-a4f2-0665c9851ca7",
   "metadata": {},
   "outputs": [],
   "source": [
    "#BMI = (weight in pounds * 703) / (height in inches * height in inches)\n",
    "#BMI is Body Mass Index it is a measurement of body fat based on height and weight."
   ]
  },
  {
   "cell_type": "code",
   "execution_count": null,
   "id": "1b67792b-afdf-4b0d-a966-0dc5a9202da5",
   "metadata": {},
   "outputs": [],
   "source": []
  },
  {
   "cell_type": "code",
   "execution_count": null,
   "id": "e2b66ba8-9f63-491c-beca-f2f7985d03b1",
   "metadata": {},
   "outputs": [],
   "source": []
  },
  {
   "cell_type": "code",
   "execution_count": null,
   "id": "b7aa3f35-015d-455d-9636-f9ca2f7055c3",
   "metadata": {},
   "outputs": [],
   "source": []
  },
  {
   "cell_type": "code",
   "execution_count": null,
   "id": "33ef6172-d389-4cc0-9713-a3d9a6e860bd",
   "metadata": {},
   "outputs": [],
   "source": []
  },
  {
   "cell_type": "code",
   "execution_count": null,
   "id": "23060593-aabc-4d44-b9cd-7190e84987a3",
   "metadata": {},
   "outputs": [],
   "source": []
  },
  {
   "cell_type": "code",
   "execution_count": null,
   "id": "86523f32-e0fd-4c68-9e73-c486987d9f63",
   "metadata": {},
   "outputs": [],
   "source": []
  },
  {
   "cell_type": "code",
   "execution_count": null,
   "id": "6b3a3f50-61ca-48b3-8da4-a26953982411",
   "metadata": {},
   "outputs": [],
   "source": []
  },
  {
   "cell_type": "code",
   "execution_count": null,
   "id": "2789cb91-68d7-4a6f-b0e4-77c4ba7184e3",
   "metadata": {},
   "outputs": [],
   "source": []
  },
  {
   "cell_type": "code",
   "execution_count": null,
   "id": "2784eb47-ae16-409f-b231-c84e28be52c9",
   "metadata": {},
   "outputs": [],
   "source": []
  },
  {
   "cell_type": "code",
   "execution_count": null,
   "id": "4c36bb55-1c72-4429-a1b5-7e503d8f3344",
   "metadata": {},
   "outputs": [],
   "source": []
  },
  {
   "cell_type": "code",
   "execution_count": null,
   "id": "073fcbde-ec71-4cbe-9e8e-d97bb7db285b",
   "metadata": {},
   "outputs": [],
   "source": []
  },
  {
   "cell_type": "code",
   "execution_count": null,
   "id": "d0119823-147e-45c9-9010-603a341d6837",
   "metadata": {},
   "outputs": [],
   "source": []
  },
  {
   "cell_type": "code",
   "execution_count": null,
   "id": "994c2717-d082-4128-80fa-ee17717dc647",
   "metadata": {},
   "outputs": [],
   "source": []
  },
  {
   "cell_type": "code",
   "execution_count": null,
   "id": "e8b11398-0aa5-46a6-89da-669489bbe592",
   "metadata": {},
   "outputs": [],
   "source": []
  },
  {
   "cell_type": "code",
   "execution_count": null,
   "id": "7f8af2c6-4baf-45c7-85be-958e2139a519",
   "metadata": {},
   "outputs": [],
   "source": []
  },
  {
   "cell_type": "code",
   "execution_count": null,
   "id": "6eabbd96-18fc-409d-97d4-23404a3a5d25",
   "metadata": {},
   "outputs": [],
   "source": []
  },
  {
   "cell_type": "code",
   "execution_count": null,
   "id": "06a16985-ddd6-4a46-8601-153d33603edc",
   "metadata": {},
   "outputs": [],
   "source": []
  },
  {
   "cell_type": "code",
   "execution_count": null,
   "id": "34039d93-2d50-4436-b58b-df22d0f72478",
   "metadata": {},
   "outputs": [],
   "source": []
  },
  {
   "cell_type": "code",
   "execution_count": null,
   "id": "a2764284-d792-48b7-976a-52aec35d1a53",
   "metadata": {},
   "outputs": [],
   "source": []
  },
  {
   "cell_type": "code",
   "execution_count": null,
   "id": "8a7ff58b-e1d7-4774-8152-7817c962f7d6",
   "metadata": {},
   "outputs": [],
   "source": []
  },
  {
   "cell_type": "code",
   "execution_count": null,
   "id": "c5ef503f-376b-43e0-978b-5e5771ed6afe",
   "metadata": {},
   "outputs": [],
   "source": []
  },
  {
   "cell_type": "code",
   "execution_count": null,
   "id": "cc84772a-c231-489d-a1a8-c9bc95faffda",
   "metadata": {},
   "outputs": [],
   "source": []
  },
  {
   "cell_type": "code",
   "execution_count": null,
   "id": "c82e2bb4-04ce-4ffa-a624-2d03bba74cc9",
   "metadata": {},
   "outputs": [],
   "source": []
  },
  {
   "cell_type": "code",
   "execution_count": null,
   "id": "d3984685-366d-4665-80c2-e78b4cc94915",
   "metadata": {},
   "outputs": [],
   "source": []
  },
  {
   "cell_type": "code",
   "execution_count": null,
   "id": "e42c9910-ca29-49c7-9b79-becd78b35017",
   "metadata": {},
   "outputs": [],
   "source": []
  },
  {
   "cell_type": "code",
   "execution_count": null,
   "id": "ba3bce5d-dc9a-4cdd-9c2d-aa9875069fd3",
   "metadata": {},
   "outputs": [],
   "source": []
  },
  {
   "cell_type": "code",
   "execution_count": null,
   "id": "914f7635-2944-41af-82e1-d92a83064727",
   "metadata": {},
   "outputs": [],
   "source": []
  },
  {
   "cell_type": "code",
   "execution_count": null,
   "id": "d427d7f0-9952-449d-95fe-ecdd78c8ea49",
   "metadata": {},
   "outputs": [],
   "source": []
  },
  {
   "cell_type": "code",
   "execution_count": null,
   "id": "90416b22-ec0f-4822-8ec8-2562a0aac6cc",
   "metadata": {},
   "outputs": [],
   "source": []
  },
  {
   "cell_type": "code",
   "execution_count": null,
   "id": "f3f5857f-7260-4b2d-ae47-cded4397f690",
   "metadata": {},
   "outputs": [],
   "source": []
  },
  {
   "cell_type": "code",
   "execution_count": null,
   "id": "a8dbe733-0fed-4524-92ad-444d23edd9e0",
   "metadata": {},
   "outputs": [],
   "source": []
  },
  {
   "cell_type": "code",
   "execution_count": null,
   "id": "3534605e-15d6-44e4-aeee-1423eac50f5d",
   "metadata": {},
   "outputs": [],
   "source": []
  },
  {
   "cell_type": "code",
   "execution_count": null,
   "id": "8c3b2671-1389-4ca8-9a46-c7ad88291f4a",
   "metadata": {},
   "outputs": [],
   "source": []
  },
  {
   "cell_type": "code",
   "execution_count": null,
   "id": "f1ae8dd0-dacb-4a61-ad81-143a7e98057f",
   "metadata": {},
   "outputs": [],
   "source": []
  }
 ],
 "metadata": {
  "kernelspec": {
   "display_name": "Python 3 (ipykernel)",
   "language": "python",
   "name": "python3"
  },
  "language_info": {
   "codemirror_mode": {
    "name": "ipython",
    "version": 3
   },
   "file_extension": ".py",
   "mimetype": "text/x-python",
   "name": "python",
   "nbconvert_exporter": "python",
   "pygments_lexer": "ipython3",
   "version": "3.11.7"
  }
 },
 "nbformat": 4,
 "nbformat_minor": 5
}
