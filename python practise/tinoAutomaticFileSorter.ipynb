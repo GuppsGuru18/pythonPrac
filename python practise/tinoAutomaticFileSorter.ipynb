{
 "cells": [
  {
   "cell_type": "markdown",
   "id": "caf79901-6af8-4997-9776-d46042bdd953",
   "metadata": {},
   "source": [
    " # Automatic File Sorter in File Explorer"
   ]
  },
  {
   "cell_type": "code",
   "execution_count": 31,
   "id": "702f1a53-fb0d-4047-8953-a67cd6d43d8d",
   "metadata": {},
   "outputs": [],
   "source": [
    "#shutil will allow us to do some high level operation on our file in file explorer\n",
    "import os, shutil"
   ]
  },
  {
   "cell_type": "code",
   "execution_count": 32,
   "id": "d72b6e19-dcce-4208-a6ea-44952377e7c1",
   "metadata": {},
   "outputs": [],
   "source": [
    "# we put an r so that it reads it as raw string without reading those forward slashs /\n",
    "path = r\"C:/Users/HP/OneDrive/Desktop/python_prac/\""
   ]
  },
  {
   "cell_type": "code",
   "execution_count": 37,
   "id": "dd80837b-7e9e-4ae7-91d4-4acce51816ea",
   "metadata": {},
   "outputs": [
    {
     "data": {
      "text/plain": [
       "['docx file', 'image file', 'music file', 'pdf file', 'video file']"
      ]
     },
     "execution_count": 37,
     "metadata": {},
     "output_type": "execute_result"
    }
   ],
   "source": [
    "# shows us which files are in that path \n",
    "os.listdir(path)"
   ]
  },
  {
   "cell_type": "code",
   "execution_count": 34,
   "id": "3e3a01be-954a-4873-994b-34f5432d427f",
   "metadata": {},
   "outputs": [],
   "source": [
    "file_name=os.listdir(path)"
   ]
  },
  {
   "cell_type": "code",
   "execution_count": 35,
   "id": "732edc34-b965-4682-8e96-9d7675040727",
   "metadata": {},
   "outputs": [],
   "source": [
    "folder_names =['docx file','image file','video file','pdf file','music file']\n",
    "\n",
    "for loop in range (0,5):\n",
    "    if not os.path.exists(path + folder_names[loop]):\n",
    "        #print(path+folder_names[loop])\n",
    "        os.makedirs(path+folder_names[loop])\n",
    "\n",
    "for file in file_name:\n",
    "     if '.docx' in file and not os.path.exists(path +'docx file/'+file):\n",
    "        shutil.move(path + file, path +'docx file/' + file)\n",
    "     elif '.jpg' in file and not os.path.exists(path+'image file/'+file):\n",
    "        shutil.move(path + file, path +'image file/' + file)\n",
    "     elif '.JPG' in file and not os.path.exists(path+'image file/'+file):\n",
    "        shutil.move(path + file, path +'image file/' + file)\n",
    "     elif '.NEF' in file and not os.path.exists(path+'image file/'+file):\n",
    "        shutil.move(path + file, path +'image file/' + file)\n",
    "     elif '.pdf' in file and not os.path.exists(path+'pdf file/'+file):\n",
    "        shutil.move(path + file, path +'pdf file/' + file)\n",
    "     elif '.mkv' in file and not os.path.exists(path+'video file/'+file):\n",
    "        shutil.move(path + file, path +'video file/' + file)\n",
    "     elif '.mp3' in file and not os.path.exists(path+'music file/'+file):\n",
    "        shutil.move(path + file, path +'music file/' + file)"
   ]
  },
  {
   "cell_type": "code",
   "execution_count": 24,
   "id": "912d0272-4b78-4e33-9a60-5efe300d7c50",
   "metadata": {},
   "outputs": [],
   "source": [
    "for file in file_name:\n",
    "     if '.docx' in file and not os.path.exists(path+'docx file/'+file):\n",
    "        shutil.move(path + file, path +'docx file/' + file)\n",
    "     elif '.jpg' in file and not os.path.exists(path+'image file/'+file):\n",
    "        shutil.move(path + file, path +'image file/' + file)\n",
    "     elif '.JPG' in file and not os.path.exists(path+'image file/'+file):\n",
    "        shutil.move(path + file, path +'image file/' + file)\n",
    "     elif '.NEF' in file and not os.path.exists(path+'image file/'+file):\n",
    "        shutil.move(path + file, path +'image file/' + file)\n",
    "     elif '.pdf' in file and not os.path.exists(path+'pdf file/'+file):\n",
    "        shutil.move(path + file, path +'pdf file/' + file)\n",
    "     elif '.mkv' in file and not os.path.exists(path+'video file/'+file):\n",
    "        shutil.move(path + file, path +'video file/' + file)\n",
    "     elif '.mp3' in file and not os.path.exists(path+'music file/'+file):\n",
    "        shutil.move(path + file, path +'music file/' + file)"
   ]
  },
  {
   "cell_type": "code",
   "execution_count": null,
   "id": "1cd19b89-a26e-42b6-9fec-5198be45df99",
   "metadata": {},
   "outputs": [],
   "source": []
  },
  {
   "cell_type": "code",
   "execution_count": null,
   "id": "745f3002-50d2-4589-bb76-69df7e8c3cf3",
   "metadata": {},
   "outputs": [],
   "source": []
  },
  {
   "cell_type": "code",
   "execution_count": null,
   "id": "e079fd69-3ce8-46c1-b15a-8ded450012ba",
   "metadata": {},
   "outputs": [],
   "source": []
  },
  {
   "cell_type": "code",
   "execution_count": null,
   "id": "5b2b4e6b-a417-468b-a2eb-1fe6a12c7807",
   "metadata": {},
   "outputs": [],
   "source": []
  },
  {
   "cell_type": "code",
   "execution_count": null,
   "id": "9f04f752-5b20-438b-b429-754a2b8a62f6",
   "metadata": {},
   "outputs": [],
   "source": []
  },
  {
   "cell_type": "code",
   "execution_count": null,
   "id": "9f4ec2d9-a782-4268-99cd-8aeadb00792e",
   "metadata": {},
   "outputs": [],
   "source": []
  },
  {
   "cell_type": "code",
   "execution_count": null,
   "id": "633bf628-9678-4fcc-b87c-df41e487414a",
   "metadata": {},
   "outputs": [],
   "source": []
  },
  {
   "cell_type": "code",
   "execution_count": null,
   "id": "670fbb9b-b624-46a7-8c08-bb8af0fdd318",
   "metadata": {},
   "outputs": [],
   "source": []
  },
  {
   "cell_type": "code",
   "execution_count": null,
   "id": "f0079e56-569c-4c94-817e-53620006f72e",
   "metadata": {},
   "outputs": [],
   "source": []
  },
  {
   "cell_type": "code",
   "execution_count": null,
   "id": "7770bce5-8c4d-4ea1-9bf6-f637b2486421",
   "metadata": {},
   "outputs": [],
   "source": []
  },
  {
   "cell_type": "code",
   "execution_count": null,
   "id": "2c217b67-c71d-498a-bbc6-8e3d37d543d1",
   "metadata": {},
   "outputs": [],
   "source": []
  },
  {
   "cell_type": "code",
   "execution_count": null,
   "id": "f30787d5-d92e-4184-b40c-12a3db13b910",
   "metadata": {},
   "outputs": [],
   "source": []
  },
  {
   "cell_type": "code",
   "execution_count": null,
   "id": "bd31b6bc-a9df-4ec9-9a4d-53f2638d999c",
   "metadata": {},
   "outputs": [],
   "source": []
  },
  {
   "cell_type": "code",
   "execution_count": null,
   "id": "b6706052-e337-49dc-b94a-0a47eb97ebbe",
   "metadata": {},
   "outputs": [],
   "source": []
  },
  {
   "cell_type": "code",
   "execution_count": null,
   "id": "3fff46df-7b88-4af6-b3f4-3f93578572db",
   "metadata": {},
   "outputs": [],
   "source": []
  },
  {
   "cell_type": "code",
   "execution_count": null,
   "id": "c32ba242-fffc-43ba-8b25-8c69cce89689",
   "metadata": {},
   "outputs": [],
   "source": []
  },
  {
   "cell_type": "code",
   "execution_count": null,
   "id": "5625ef1a-84ae-4f40-8fd4-3c8f1f0c5e0a",
   "metadata": {},
   "outputs": [],
   "source": []
  },
  {
   "cell_type": "code",
   "execution_count": null,
   "id": "8b268087-d762-42ac-bb2e-596329e44bc1",
   "metadata": {},
   "outputs": [],
   "source": []
  },
  {
   "cell_type": "code",
   "execution_count": null,
   "id": "f81555aa-28af-41a3-859d-245cf992746a",
   "metadata": {},
   "outputs": [],
   "source": []
  },
  {
   "cell_type": "code",
   "execution_count": null,
   "id": "2c19e5ff-bf7c-4185-ad6a-8b26a4846bc5",
   "metadata": {},
   "outputs": [],
   "source": []
  },
  {
   "cell_type": "code",
   "execution_count": null,
   "id": "14072eb7-8c00-4fd4-b74f-f3c3168e04f8",
   "metadata": {},
   "outputs": [],
   "source": []
  },
  {
   "cell_type": "code",
   "execution_count": null,
   "id": "d4854e4c-171e-47eb-ad52-bb7a1ff35e0f",
   "metadata": {},
   "outputs": [],
   "source": []
  },
  {
   "cell_type": "code",
   "execution_count": null,
   "id": "6a21e974-c5e9-4e85-b6d3-c2a3d9d4ba41",
   "metadata": {},
   "outputs": [],
   "source": []
  },
  {
   "cell_type": "code",
   "execution_count": null,
   "id": "72aeb1e5-4786-4e46-8d15-85b29070561a",
   "metadata": {},
   "outputs": [],
   "source": []
  },
  {
   "cell_type": "code",
   "execution_count": null,
   "id": "c67b0db3-e92c-433e-bc71-c676af4961cd",
   "metadata": {},
   "outputs": [],
   "source": []
  },
  {
   "cell_type": "code",
   "execution_count": null,
   "id": "e2d1bc45-4f89-4bde-b0a1-400751629a51",
   "metadata": {},
   "outputs": [],
   "source": []
  },
  {
   "cell_type": "code",
   "execution_count": null,
   "id": "50c57295-bca9-4f0e-a8c5-ef489cf7968b",
   "metadata": {},
   "outputs": [],
   "source": []
  },
  {
   "cell_type": "code",
   "execution_count": null,
   "id": "0a0d4a51-3996-4a11-8144-4a670ab2e8f8",
   "metadata": {},
   "outputs": [],
   "source": []
  },
  {
   "cell_type": "code",
   "execution_count": null,
   "id": "377e8d97-516a-407b-9192-0a19d23cdca2",
   "metadata": {},
   "outputs": [],
   "source": []
  },
  {
   "cell_type": "code",
   "execution_count": null,
   "id": "8a88cdde-66de-4808-ac23-82ea9f97a574",
   "metadata": {},
   "outputs": [],
   "source": []
  }
 ],
 "metadata": {
  "kernelspec": {
   "display_name": "Python 3 (ipykernel)",
   "language": "python",
   "name": "python3"
  },
  "language_info": {
   "codemirror_mode": {
    "name": "ipython",
    "version": 3
   },
   "file_extension": ".py",
   "mimetype": "text/x-python",
   "name": "python",
   "nbconvert_exporter": "python",
   "pygments_lexer": "ipython3",
   "version": "3.11.7"
  }
 },
 "nbformat": 4,
 "nbformat_minor": 5
}
